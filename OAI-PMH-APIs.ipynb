{
 "cells": [
  {
   "cell_type": "markdown",
   "metadata": {},
   "source": [
    "# OAI-PMH\n",
    "\n",
    "La documentación del protocolo la podéis encontrar aquí:\n",
    "\n",
    "https://www.openarchives.org/OAI/openarchivesprotocol.html\n",
    "\n",
    "### Librerías necesarias para la práctica\n",
    "\n",
    "```python\n",
    "import xml.etree.ElementTree as ET\n",
    "import requests\n",
    "import json\n",
    "```"
   ]
  },
  {
   "cell_type": "code",
   "execution_count": null,
   "metadata": {},
   "outputs": [],
   "source": [
    "import xml.etree.ElementTree as ET\n",
    "import requests\n",
    "import json"
   ]
  },
  {
   "cell_type": "markdown",
   "metadata": {},
   "source": [
    "### Identify\n",
    "\n",
    "This verb is used to retrieve information about a repository. Some of the information returned is required as part of the OAI-PMH. Repositories may also employ the Identify verb to return additional descriptive information."
   ]
  },
  {
   "cell_type": "code",
   "execution_count": null,
   "metadata": {},
   "outputs": [],
   "source": [
    "import xml.etree.ElementTree as ET\n",
    "import requests\n",
    "\n",
    "oai = requests.get('https://zenodo.org/oai2d?verb=Identify') #Peticion al servidor\n",
    "\n",
    "#Para crear el arbol XML\n",
    "xmlTree = ET.fromstring(oai.text)\n",
    "print(oai.text)\n",
    "#Iterator para recorrer todos los elementos (incluso anidados)\n",
    "iterator = xmlTree.iter()\n",
    "for elem in iterator:\n",
    "    print(elem.tag+\": \"+elem.text)\n",
    "\n",
    "#Findall para encontrar un elemento específico\n",
    "namespaces = {'ns': 'http://www.openarchives.org/OAI/2.0/'} # add more as needed\n",
    "elementos = xmlTree.findall('.//ns:baseURL',namespaces)\n",
    "print(elementos) #Element\n",
    "for e in elementos:\n",
    "    print(\"BaseURL:\", e.text)"
   ]
  },
  {
   "cell_type": "markdown",
   "metadata": {},
   "source": [
    "### Listar tipos de metadatos\n",
    "\n",
    "ListMetadataFormats\n",
    "\n",
    "This verb is used to retrieve the metadata formats available from a repository. An optional argument restricts the request to the formats available for a specific item.\n"
   ]
  },
  {
   "cell_type": "code",
   "execution_count": null,
   "metadata": {},
   "outputs": [],
   "source": [
    "import xml.etree.ElementTree as ET\n",
    "import requests\n",
    "\n",
    "oai = requests.get('https://zenodo.org/oai2d?verb=ListMetadataFormats') #Peticion al servidor\n",
    "\n",
    "#Para crear el arbol XML\n",
    "xmlTree = ET.fromstring(oai.text)\n",
    "\n",
    "iterator = xmlTree.iter()\n",
    "for elem in iterator:\n",
    "    print(elem.tag+\": \"+elem.text)"
   ]
  },
  {
   "cell_type": "markdown",
   "metadata": {},
   "source": [
    "Podemos capturar sólo la información relevante"
   ]
  },
  {
   "cell_type": "code",
   "execution_count": null,
   "metadata": {},
   "outputs": [],
   "source": [
    "iterator = xmlTree.iter()\n",
    "for elem in iterator:\n",
    "    if (elem.tag == '{http://www.openarchives.org/OAI/2.0/}metadataPrefix') or (elem.tag == '{http://www.openarchives.org/OAI/2.0/}schema'):\n",
    "        print(elem.tag+\": \"+elem.text)"
   ]
  },
  {
   "cell_type": "markdown",
   "metadata": {},
   "source": [
    "O de forma más \"elegante\""
   ]
  },
  {
   "cell_type": "code",
   "execution_count": null,
   "metadata": {},
   "outputs": [],
   "source": [
    "for e in xmlTree.findall('.//{http://www.openarchives.org/OAI/2.0/}metadataFormat'):\n",
    "    metadataPrefix = e.find('{http://www.openarchives.org/OAI/2.0/}metadataPrefix').text\n",
    "    schema = e.find('{http://www.openarchives.org/OAI/2.0/}schema').text\n",
    "    print(metadataPrefix, ':', schema)"
   ]
  },
  {
   "cell_type": "markdown",
   "metadata": {},
   "source": [
    "Podemos describir el último schema"
   ]
  },
  {
   "cell_type": "code",
   "execution_count": null,
   "metadata": {},
   "outputs": [],
   "source": [
    "oai_datacite = requests.get('http://schema.datacite.org/meta/kernel-3/metadata.xsd') #Peticion al servidor\n",
    "print(oai_datacite.text)\n",
    "\n",
    "#Para crear el arbol XML\n",
    "xmlTree = ET.fromstring(oai_datacite.text)\n",
    "\n",
    "iterator = xmlTree.iter()\n",
    "for elem in iterator:\n",
    "    print(elem.tag)"
   ]
  },
  {
   "cell_type": "markdown",
   "metadata": {},
   "source": [
    "Si analizamos la descripción del estándar, vemos que las etiquetas de los metadatos están almacenados en la etiqueta \"element\", en el atributo \"name\". Podemos obetener un listado de lo que esperamos encontrar"
   ]
  },
  {
   "cell_type": "code",
   "execution_count": null,
   "metadata": {},
   "outputs": [],
   "source": [
    "namespaces = {'xs' : 'http://www.w3.org/2001/XMLSchema'}\n",
    "for tags in xmlTree.findall('.//xs:element',namespaces):\n",
    "    print ('Metadato: ',tags.attrib['name'])"
   ]
  },
  {
   "cell_type": "markdown",
   "metadata": {},
   "source": [
    "### ListIdentifiers\n",
    "\n",
    "This verb is an abbreviated form of ListRecords, retrieving only headers rather than records. Optional arguments permit selective harvesting of headers based on set membership and/or datestamp. Depending on the repository's support for deletions, a returned header may have a status attribute of \"deleted\" if a record matching the arguments specified in the request has been deleted.\n",
    "\n",
    "Devuelve la cabecera de los registros, para conocer la información esencial.\n",
    "\n",
    "Necesita el prefijo del formato de metadatos"
   ]
  },
  {
   "cell_type": "code",
   "execution_count": null,
   "metadata": {},
   "outputs": [],
   "source": [
    "#prefijo: oai_datacite\n",
    "oai = requests.get('https://zenodo.org/oai2d?verb=ListIdentifiers&metadataPrefix=oai_datacite')\n",
    "xmlTree = ET.fromstring(oai.text)\n",
    "\n",
    "iterator = xmlTree.iter()\n",
    "for elem in iterator:\n",
    "    print(elem.tag+\": \"+elem.text) #Identifiers are really important because they are used to ask more information"
   ]
  },
  {
   "cell_type": "markdown",
   "metadata": {},
   "source": [
    "### ListRecords\n",
    "\n",
    "Listar los registros\n",
    "\n",
    "This verb is used to harvest records from a repository. Optional arguments permit selective harvesting of records based on set membership and/or datestamp. Depending on the repository's support for deletions, a returned header may have a status attribute of \"deleted\" if a record matching the arguments specified in the request has been deleted. No metadata will be present for records with deleted status."
   ]
  },
  {
   "cell_type": "code",
   "execution_count": null,
   "metadata": {},
   "outputs": [],
   "source": [
    "import xml.etree.ElementTree as ET\n",
    "import requests\n",
    "\n",
    "oai = requests.get('https://zenodo.org/oai2d?verb=ListRecords&metadataPrefix=oai_datacite')\n",
    "xmlTree = ET.fromstring(oai.text)\n",
    "iterator = xmlTree.iter()\n",
    "for elem in iterator:\n",
    "    print(elem.tag)\n",
    "    print(elem.text)"
   ]
  },
  {
   "cell_type": "markdown",
   "metadata": {},
   "source": [
    "## Ejercicio 1"
   ]
  },
  {
   "cell_type": "markdown",
   "metadata": {},
   "source": [
    "Muestra sólo el identificador y las palabras clave (subject)"
   ]
  },
  {
   "cell_type": "code",
   "execution_count": null,
   "metadata": {},
   "outputs": [],
   "source": []
  },
  {
   "cell_type": "markdown",
   "metadata": {},
   "source": [
    "## Filtros"
   ]
  },
  {
   "cell_type": "markdown",
   "metadata": {},
   "source": [
    "Registros entre dos fechas"
   ]
  },
  {
   "cell_type": "code",
   "execution_count": null,
   "metadata": {},
   "outputs": [],
   "source": [
    "import xml.etree.ElementTree as ET\n",
    "\n",
    "bounds = \"&from='2017-01-01'&until='2017-12-31'\" #Para filtrar por fechas\n",
    "oai = requests.get('https://zenodo.org/oai2d?verb=ListRecords&metadataPrefix=oai_datacite'+bounds)\n",
    "xmlTree = ET.fromstring(oai.text)\n",
    "iterator = xmlTree.iter()\n",
    "for elem in iterator:\n",
    "    print(elem.tag)\n",
    "    print(elem.text)"
   ]
  },
  {
   "cell_type": "markdown",
   "metadata": {},
   "source": [
    "### GetRecord\n",
    "\n",
    "This verb is used to retrieve an individual metadata record from a repository. Required arguments specify the identifier of the item from which the record is requested and the format of the metadata that should be included in the record. Depending on the level at which a repository tracks deletions, a header with a \"deleted\" value for the status attribute may be returned, in case the metadata format specified by the metadataPrefix is no longer available from the repository or from the specified item.\n",
    "\n",
    "Obtener objeto digital de ese recurso"
   ]
  },
  {
   "cell_type": "code",
   "execution_count": null,
   "metadata": {},
   "outputs": [],
   "source": [
    "import xml.etree.ElementTree as ET\n",
    "import urllib\n",
    "#https://zenodo.org/oai2d?verb=GetRecord&metadataPrefix=oai_dc&identifier=oai:zenodo.org:252670\n",
    "oai = requests.get('https://zenodo.org/oai2d?verb=GetRecord&metadataPrefix=oai_datacite&identifier=oai:zenodo.org:252977')\n",
    "xmlTree = ET.fromstring(oai.text)\n",
    "ns = {'oai' : 'http://www.openarchives.org/OAI/2.0/'}\n",
    "\n",
    "#iterator = xmlTree.iter()\n",
    "#for elem in iterator:\n",
    " #   print(elem.tag)\n",
    " #   print(elem.text)\n",
    "\n",
    "for tags in xmlTree.findall('.//',ns):\n",
    "    print (tags.tag+\": \",tags.text)"
   ]
  },
  {
   "cell_type": "code",
   "execution_count": null,
   "metadata": {},
   "outputs": [],
   "source": [
    "import xml.etree.ElementTree as ET\n",
    "#https://zenodo.org/oai2d?verb=GetRecord&metadataPrefix=oai_dc&identifier=oai:zenodo.org:252670\n",
    "headers = {'Accept': 'application/rdf+xml;q=0.5'} #Type of response accpeted\n",
    "r = requests.post('https://dx.doi.org/10.5281/zenodo.252363', headers=headers) #POST with headers\n",
    "print(r.text)\n"
   ]
  },
  {
   "cell_type": "markdown",
   "metadata": {},
   "source": [
    "## APIs específicas"
   ]
  },
  {
   "cell_type": "markdown",
   "metadata": {},
   "source": [
    "El protocolo OAI-PMH ofrece una serie de funcionalidades genéricas e interoperables entre distintos repositorios. Sin embargo, existen ciertas limitaciones que no nos permiten automatizar todo lo necesario para analizar un gran número de dataset. Para ello, tenemos que recurrir a APIs específicas de los repositorios con los que trabajamos.\n",
    "\n",
    "Zenodo proporciona una API bastante completa que complementa al protocolo OAI-PMH. En el siguiente enlace podemos ver su especificación y algunos ejemplos con curl y python.\n",
    "\n",
    "http://developers.zenodo.org/\n",
    "\n",
    "Entre otras cosas, podemos automatizar el proceso de publicación, descargar archivos, etc.\n",
    "\n",
    "También, obteniendo el DOI de un recurso, podemos resolverlo para obtener cierta información específica, como la URL del objeto digital entre otras."
   ]
  },
  {
   "cell_type": "code",
   "execution_count": null,
   "metadata": {},
   "outputs": [],
   "source": [
    "import json\n",
    "#Buscamos datasets específicos-\n",
    "oai = requests.get('https://zenodo.org/oai2d?verb=ListRecords&metadataPrefix=datacite3')\n",
    "oaiTree = ET.fromstring(oai.text)\n",
    "#for i in oaiTree.iter():\n",
    "#    print(i.tag)\n",
    "records = oaiTree.findall('.//{http://www.openarchives.org/OAI/2.0/}record')\n",
    "for e in records:\n",
    "    for subject in e.findall('.//{http://datacite.org/schema/kernel-3}subject'):\n",
    "        if \"Animalia\" in subject.text:\n",
    "            print(\"Title: \"+e.findall('.//{http://datacite.org/schema/kernel-3}title')[0].text)\n",
    "            identifier = e.findall('.//{http://datacite.org/schema/kernel-3}identifier')[0].text\n",
    "            print(identifier)\n",
    "            print('\\n')\n",
    "            \n",
    "headers = {'accept': 'application/json'}\n",
    "r = requests.get('https://zenodo.org/api/records/958140',headers)\n",
    "record = json.loads(r.text)\n",
    "print(record['files'])\n",
    "\n",
    "    "
   ]
  },
  {
   "cell_type": "markdown",
   "metadata": {},
   "source": [
    "# Ejercicio"
   ]
  },
  {
   "cell_type": "markdown",
   "metadata": {},
   "source": [
    "* 1: Busca al menos dos repositorios digitales compatibles con OAI-PMH\n",
    "* 2: Utiliza los verbos del protocolo para encontrar los recursos de un tema en concreto (puedes buscar en la descripción o en las palabras clave.\n",
    "* 3: Obtén un listado de los títulos, identificadores (DOI o cualquier otro) y la dirección del recurso.\n",
    "* 4: ¿Qué problemas has encontrado? ¿Has tenido que manejar más de un formato de metadatos? ¿Qué limitaciones tiene el protocolo OAI-PMH? ¿Cómo lo mejorarías?\n",
    "* 5: A través de los distintos métodos vistos (Uso de PID/DOI, OAI-PMH o APIs concretas de repositorios) intenta llegar al fichero de un dataset para mostrarlo (gráfica, imagen...)"
   ]
  }
 ],
 "metadata": {
  "kernelspec": {
   "display_name": "Python 3",
   "language": "python",
   "name": "python3"
  },
  "language_info": {
   "codemirror_mode": {
    "name": "ipython",
    "version": 3
   },
   "file_extension": ".py",
   "mimetype": "text/x-python",
   "name": "python",
   "nbconvert_exporter": "python",
   "pygments_lexer": "ipython3",
   "version": "3.6.6"
  }
 },
 "nbformat": 4,
 "nbformat_minor": 1
}
